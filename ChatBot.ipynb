{
  "nbformat": 4,
  "nbformat_minor": 0,
  "metadata": {
    "colab": {
      "provenance": [],
      "authorship_tag": "ABX9TyOBBs/j2/D3zodLpwdTl1d+",
      "include_colab_link": true
    },
    "kernelspec": {
      "name": "python3",
      "display_name": "Python 3"
    },
    "language_info": {
      "name": "python"
    }
  },
  "cells": [
    {
      "cell_type": "markdown",
      "metadata": {
        "id": "view-in-github",
        "colab_type": "text"
      },
      "source": [
        "<a href=\"https://colab.research.google.com/github/VanshDhimangithub/Sorting/blob/master/ChatBot.ipynb\" target=\"_parent\"><img src=\"https://colab.research.google.com/assets/colab-badge.svg\" alt=\"Open In Colab\"/></a>"
      ]
    },
    {
      "cell_type": "code",
      "execution_count": 63,
      "metadata": {
        "id": "foEteaIMlKZc"
      },
      "outputs": [],
      "source": [
        "# libraries to import\n",
        "import numpy as np\n",
        "import nltk\n",
        "import string\n",
        "import random\n"
      ]
    },
    {
      "cell_type": "code",
      "source": [
        "f = open('/content/data.txt','r',errors = 'ignore')\n",
        "raw_doc = f.read()"
      ],
      "metadata": {
        "id": "YyLFWa9dojNw"
      },
      "execution_count": 64,
      "outputs": []
    },
    {
      "cell_type": "markdown",
      "source": [
        "tokenization of data\n"
      ],
      "metadata": {
        "id": "JSacztkyvGYV"
      }
    },
    {
      "cell_type": "code",
      "source": [
        "raw_doc = raw_doc.lower() #Converting entire text to lowercase\n",
        "nltk.download( 'punkt') #Using the Punkt tokenizer\n",
        "nltk.download( 'wordnet') #Using the wordnet dictionary\n",
        "nltk.download('omw-1.4')\n"
      ],
      "metadata": {
        "colab": {
          "base_uri": "https://localhost:8080/"
        },
        "id": "3NvkuYcDrKei",
        "outputId": "01ea957e-bc6c-434d-cf48-75b99a1751b0"
      },
      "execution_count": 65,
      "outputs": [
        {
          "output_type": "stream",
          "name": "stderr",
          "text": [
            "[nltk_data] Downloading package punkt to /root/nltk_data...\n",
            "[nltk_data]   Package punkt is already up-to-date!\n",
            "[nltk_data] Downloading package wordnet to /root/nltk_data...\n",
            "[nltk_data]   Package wordnet is already up-to-date!\n",
            "[nltk_data] Downloading package omw-1.4 to /root/nltk_data...\n",
            "[nltk_data]   Package omw-1.4 is already up-to-date!\n"
          ]
        },
        {
          "output_type": "execute_result",
          "data": {
            "text/plain": [
              "True"
            ]
          },
          "metadata": {},
          "execution_count": 65
        }
      ]
    },
    {
      "cell_type": "code",
      "source": [
        "sentence_tokens = nltk.sent_tokenize(raw_doc)\n",
        "word_tokens = nltk.word_tokenize(raw_doc)"
      ],
      "metadata": {
        "id": "J4H4_9f0slsF"
      },
      "execution_count": 66,
      "outputs": []
    },
    {
      "cell_type": "markdown",
      "source": [
        "After Tokenization"
      ],
      "metadata": {
        "id": "BzaAzJouvN0t"
      }
    },
    {
      "cell_type": "code",
      "source": [
        " sentence_tokens[5]"
      ],
      "metadata": {
        "colab": {
          "base_uri": "https://localhost:8080/",
          "height": 35
        },
        "id": "fRQw5bazuS4Z",
        "outputId": "e69c74dc-9244-44c8-e524-d7d10d09d4be"
      },
      "execution_count": 68,
      "outputs": [
        {
          "output_type": "execute_result",
          "data": {
            "text/plain": [
              "'it is often seen that people with good knowledge of these technologies are better programmers than others and thus, crack the interviews of almost every tech giant.'"
            ],
            "application/vnd.google.colaboratory.intrinsic+json": {
              "type": "string"
            }
          },
          "metadata": {},
          "execution_count": 68
        }
      ]
    },
    {
      "cell_type": "code",
      "source": [
        "# word_tokens[:10]"
      ],
      "metadata": {
        "id": "ntYlwGGovgov"
      },
      "execution_count": null,
      "outputs": []
    },
    {
      "cell_type": "markdown",
      "source": [
        "performing Text-preprocessing Steps\n"
      ],
      "metadata": {
        "id": "6HPpeQDOvz8M"
      }
    },
    {
      "cell_type": "code",
      "source": [
        "lemmer = nltk.stem.WordNetLemmatizer()\n",
        "def LemTokens(tokens):\n",
        "  return [lemmer.lemmatize(token) for token in tokens]\n",
        "remove_punc_dict = dict((ord(punct), None) for punct in string.punctuation)\n",
        "def LemNormalize(text) :\n",
        "  return LemTokens(nltk.word_tokenize(text.lower().translate(remove_punc_dict)))"
      ],
      "metadata": {
        "id": "Tn_2owvJvyLf"
      },
      "execution_count": 48,
      "outputs": []
    },
    {
      "cell_type": "markdown",
      "source": [
        "Define Greeting fuctions"
      ],
      "metadata": {
        "id": "QSDqzKd2xPOF"
      }
    },
    {
      "cell_type": "code",
      "source": [
        " greet_inputs = ('hello', 'hi','How are you?')\n",
        " greet_responses = ('hi','hey','Hey There!')\n",
        " def greet(sentence):\n",
        "  for word in sentence.split():\n",
        "    if word.lower in greet_inputs:\n",
        "      return random.choice(greet_response)\n"
      ],
      "metadata": {
        "id": "bKUqrOGfxEQz"
      },
      "execution_count": null,
      "outputs": []
    },
    {
      "cell_type": "code",
      "source": [
        "from sklearn.feature_extraction.text import TfidfVectorizer\n",
        "from sklearn.metrics.pairwise import cosine_similarity"
      ],
      "metadata": {
        "id": "1UQfLHM5yYv0"
      },
      "execution_count": 70,
      "outputs": []
    },
    {
      "cell_type": "code",
      "source": [
        "def response(user_response):\n",
        "  robo1_response = ' '\n",
        "  TfidfVec = TfidfVectorizer(tokenizer = LemNormalize, stop_words = 'english')\n",
        "  tfidf = TfidfVec.fit_transform(sentence_tokens)\n",
        "  vals = cosine_similarity(tfidf[-1], tfidf)\n",
        "  idx = vals.argsort()[0][-2]\n",
        "  flat = vals.flatten()\n",
        "  flat.sort()\n",
        "  req_tfidf = flat[-2]\n",
        "  if (req_tfidf == 0):\n",
        "    robo1_response = robo1_response + \"I am sorry. Unable to understand you!\"\n",
        "    return robo1_response\n",
        "  else:\n",
        "    robo1_response = robo1_response + sentence_tokens[idx]\n",
        "    return robo1_response\n",
        "\n",
        "\n"
      ],
      "metadata": {
        "id": "lD7s5KFAzKoO"
      },
      "execution_count": 71,
      "outputs": []
    },
    {
      "cell_type": "markdown",
      "source": [
        "Defining the ChatFlow"
      ],
      "metadata": {
        "id": "s296QdGg2Q-h"
      }
    },
    {
      "cell_type": "code",
      "source": [
        "flag = True\n",
        "print ('Hello! I am the Learning Bot.Start typing your text after greeting to talk me. For ending convo type bye!')\n",
        "while(flag == True):\n",
        "  user_response = input()\n",
        "  user_response = user_response.lower()\n",
        "  if(user_response != 'bye' ):\n",
        "    if(user_response == 'thank you' or user_response == 'thanks'):\n",
        "      flag = False\n",
        "      print ('bot: you are Welcome..')\n",
        "    else:\n",
        "       if(greet(user_response) != None):\n",
        "        print('Bot' + greet(user_response))\n",
        "       else:\n",
        "        sentence_tokens.append(user_response)\n",
        "        word_tokens = word_tokens + nltk.word_tokenize(user_response)\n",
        "        final_words = list(set(word_tokens))\n",
        "        print('Bot: ', end = '')\n",
        "        print (response(user_response))\n",
        "        sentence_tokens.remove(user_response)\n",
        "  else:\n",
        "       flag = False\n",
        "       print('Bot: Goodbye!')\n",
        "\n"
      ],
      "metadata": {
        "colab": {
          "base_uri": "https://localhost:8080/"
        },
        "id": "waeOEoTX2NFy",
        "outputId": "6cdd29a2-3c45-47c4-9ab7-0cd3a1d8d7c6"
      },
      "execution_count": null,
      "outputs": [
        {
          "name": "stdout",
          "output_type": "stream",
          "text": [
            "Hello! I am the Learning Bot.Start typing your text after greeting to talk me. For ending convo type bye!\n",
            "hello\n",
            "Bot:  I am sorry. Unable to understand you!\n",
            "thanks \n",
            "Bot:  I am sorry. Unable to understand you!\n",
            "hi\n"
          ]
        }
      ]
    }
  ]
}